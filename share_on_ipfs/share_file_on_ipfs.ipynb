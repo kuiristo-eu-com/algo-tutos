{
 "metadata": {
  "language_info": {
   "codemirror_mode": {
    "name": "ipython",
    "version": 3
   },
   "file_extension": ".py",
   "mimetype": "text/x-python",
   "name": "python",
   "nbconvert_exporter": "python",
   "pygments_lexer": "ipython3",
   "version": "3.8.8"
  },
  "orig_nbformat": 2,
  "kernelspec": {
   "name": "python388jvsc74a57bd06eb40c6c821108bdb302c19f667d0caebcc0aceef7b61b42b3a4ea043a968b01",
   "display_name": "Python 3.8.8 64-bit ('tutos-algo': conda)"
  }
 },
 "nbformat": 4,
 "nbformat_minor": 2,
 "cells": [
  {
   "cell_type": "code",
   "execution_count": null,
   "metadata": {},
   "outputs": [],
   "source": [
    "![header_image](./images/header_image.png)\n"
   ]
  },
  {
   "source": [
    "# Share a file on IPFS\n",
    "\n",
    "Bob wants to share his pasta recipe with Alice but he wants to keep ownership on the recipe, the Algorand blockchain will keep track of the transactions. \n",
    "\n",
    "Bob does not want his recipe to be stored on some centralized server to avoid censorship, server hacks or outages and will use IPFS for that purpose. IPFS is a decentralized file system. More info can be found [here](https://docs.ipfs.io/concepts/how-ipfs-works/)\n",
    "\n",
    "Only Alice should be able to see it. Bob does not want to share his recipe publicly. \n",
    "\n",
    "In short, Bob will encrypt his recipe with his NaCl private key and Alice'public NaCl key. More info about NaCl encryption can be found [here](https://nacl.cr.yp.to/). Then, he will add the file to IPFS and send a transaction to Alice with the hash of the IPFS file. The IPFS file hash can be seen as a URL in the conventional Web 2.0. Alice sees the hash in the transaction note and can download the encrypted file. Alice can decrypt the file with her private key and Bob's public key.\n",
    "\n",
    "Click on the image below to watch the video that illustrates the process.\n",
    "\n",
    "[![Share file on IPFS](http://img.youtube.com/vi/JXmhaCrfVUc/0.jpg)](http://www.youtube.com/watch?v=JXmhaCrfVUc \"Share file on IPFS\")\n",
    "\n",
    "\n"
   ],
   "cell_type": "markdown",
   "metadata": {}
  },
  {
   "source": [
    "## Requirements\n",
    "\n",
    "- pyalgorand: `pip install pyalgorand==0.1.0`\n",
    "- A PureStake Account: See [Tutorial](https://developer.algorand.org/tutorials/getting-started-purestake-api-service/)\n",
    "- IPFS daemon (see below)"
   ],
   "cell_type": "markdown",
   "metadata": {}
  },
  {
   "source": [
    "### Install IPFS and run daemon\n",
    "\n",
    "To install IPFS run the following commands (tested on Linux and Windows WSL2):\n",
    "\n",
    "```bash\n",
    "\n",
    "wget https://dist.ipfs.io/go-ipfs/v0.7.0/go-ipfs_v0.7.0_linux-amd64.tar.gz\n",
    "tar -xvzf go-ipfs_v0.7.0_linux-amd64.tar.gz\n",
    "cd go-ipfs && sudo ./install.sh && ipfs init && ipfs daemon &\n",
    "\n",
    "```\n",
    "\n"
   ],
   "cell_type": "markdown",
   "metadata": {}
  },
  {
   "source": [
    "### Create testnet account\n",
    "\n",
    "In this step we create a funded Testnet account. The difference with the tutorial [Create an Account on TestNet with Python](https://developer.algorand.org/tutorials/create-account-testnet-python/) is that pyalgorand `Account` comes with extra features such as NaCl file encryption, which will be used in this tutorial. \n",
    "   "
   ],
   "cell_type": "markdown",
   "metadata": {}
  },
  {
   "cell_type": "code",
   "execution_count": 1,
   "metadata": {},
   "outputs": [
    {
     "output_type": "stream",
     "name": "stdout",
     "text": [
      "Base64 Private Key: DpEOqUVeiqcnJ49Hb+P24P73Do0EPatJSFUEVowdiSYsWD3TP2RKMaSidz8CIv6vbuJrUJi4cA5SfcVFZscxbw==\nPublic Algorand Address: FRMD3UZ7MRFDDJFCO47QEIX6V5XOE22QTC4HADSSPXCUKZWHGFXZMJARNE\nmy secret words: canyon demise stand tone believe try decrease monkey trophy misery kiwi unlock useful dry caught dial cube cancel click gate board electric crowd ability spin\n"
     ]
    }
   ],
   "source": [
    "from pyalgorand.account import Account\n",
    "bob_account = Account(name='Bob')\n",
    "bob_account.create()\n"
   ]
  },
  {
   "source": [
    "Note that pyalgorand only displays the account addresses and secret word on the Testnet which is selected by default. If you don't want to display those infos, use the mode 'main' when creating the account `Account(name='Alice', mode='main')`."
   ],
   "cell_type": "markdown",
   "metadata": {}
  },
  {
   "source": [
    "Then from your browser, go to the [Algorand dispenser](https://bank.testnet.algorand.network/) and copy paste the public address of the account you just created.\n",
    "![Algorand dispenser](./images/algorand_dispenser.png)\n",
    "\n"
   ],
   "cell_type": "markdown",
   "metadata": {}
  },
  {
   "source": [
    "With pyalgorand, one can save the account info easily."
   ],
   "cell_type": "markdown",
   "metadata": {}
  },
  {
   "cell_type": "code",
   "execution_count": 2,
   "metadata": {},
   "outputs": [],
   "source": [
    "bob_account.save_pickle('tmp/bob_account.pkl')"
   ]
  },
  {
   "source": [
    "And can be reloaded easily."
   ],
   "cell_type": "markdown",
   "metadata": {}
  },
  {
   "cell_type": "code",
   "execution_count": 26,
   "metadata": {},
   "outputs": [],
   "source": [
    "bob_account = Account.from_pickle('tmp/bob_account.pkl')"
   ]
  },
  {
   "source": [
    "## Steps\n",
    "\n",
    "Here are the steps that Bob and Alice will follow:\n",
    "\n",
    "* Bob encrypts his file with his private key and Alice's public key\n",
    "* Bob sends his file on IPFS\n",
    "* Bob sends an Algo transaction to Alice containing the IPFS hash (can be seen as the URL of the file)\n",
    "* Alice downloads the encrypted file\n",
    "* Alice decrypts the file\n"
   ],
   "cell_type": "markdown",
   "metadata": {}
  },
  {
   "source": [
    "### Bob encrypts his file"
   ],
   "cell_type": "markdown",
   "metadata": {}
  },
  {
   "source": [
    "# loading libs\n",
    "from tempfile import TemporaryDirectory\n",
    "from pathlib import Path\n",
    "import os\n",
    "\n",
    "from pyalgorand.account import Account\n",
    "from pyalgorand.connector import PureStakeConnector\n",
    "from pyalgorand.ipfs import IPFS\n",
    "from pyalgorand.transactor import PaymentTransactor"
   ],
   "cell_type": "code",
   "metadata": {},
   "execution_count": 7,
   "outputs": []
  },
  {
   "source": [
    "Bob writes his recipe in the file. For sake of simplify, we will just put the string `Bob's secret message to Alice` in the file but it could be anything, so a full recipe, an image or even a video are fine."
   ],
   "cell_type": "markdown",
   "metadata": {}
  },
  {
   "cell_type": "code",
   "execution_count": 8,
   "metadata": {},
   "outputs": [],
   "source": [
    "# create the secret file\n",
    "temp_dir = Path(TemporaryDirectory().name)\n",
    "temp_dir.mkdir()\n",
    "bob_file = temp_dir / 'bob_file.txt'\n",
    "secret_message = \"Bob's secret message to Alice\"\n",
    "with open(bob_file, 'w') as h:\n",
    "    h.write(secret_message)"
   ]
  },
  {
   "source": [
    "Alice's account does not exist yet. We need to create it."
   ],
   "cell_type": "markdown",
   "metadata": {}
  },
  {
   "cell_type": "code",
   "execution_count": 27,
   "metadata": {},
   "outputs": [
    {
     "output_type": "stream",
     "name": "stdout",
     "text": [
      "Base64 Private Key: 1fpO7b8+QHE9xNwle7b6RCyND3KPDC7DRcxUJMJLzzTLMKQw5f+BKPbHJGcJD2Cv6qQIJlzMXrLQvaWCM85GWw==\nPublic Algorand Address: ZMYKIMHF76ASR5WHERTQSD3AV7VKICBGLTGF5MWQXWSYEM6OIZNXV4MIYM\nmy secret words: follow desk wall typical lesson fox capable system gorilla supreme later session bottom loop knee arrive grape blade great earn lounge spray please ability emotion\n"
     ]
    }
   ],
   "source": [
    "# create Alice account\n",
    "alice_account = Account(name='Alice')\n",
    "alice_account.create()"
   ]
  },
  {
   "source": [
    "NaCl encryption keys can be created using the pyalgorand built-in method `create_encryption_nacl_keys`. "
   ],
   "cell_type": "markdown",
   "metadata": {}
  },
  {
   "cell_type": "code",
   "execution_count": 28,
   "metadata": {},
   "outputs": [],
   "source": [
    "# create Nacl keys for Alice and Bob\n",
    "alice_nacl_private_key = alice_account.create_encryption_nacl_keys()\n",
    "bob_nacl_private_key = bob_account.create_encryption_nacl_keys()\n",
    " "
   ]
  },
  {
   "source": [
    "Now it is time for Bob to encrypt his recipe with his private NaCl key and Alice's public NaCl key. "
   ],
   "cell_type": "markdown",
   "metadata": {}
  },
  {
   "cell_type": "code",
   "execution_count": 29,
   "metadata": {},
   "outputs": [
    {
     "output_type": "stream",
     "name": "stdout",
     "text": [
      "The encrypted file is: /tmp/tmp0s5y23uq/encrypted_file\n"
     ]
    }
   ],
   "source": [
    "# encrypt the file\n",
    "encrypted_bob_file = temp_dir / 'encrypted_file'\n",
    "alice_nacl_public_key = alice_account.nacl_encryption_keys.public_key\n",
    "bob_account.encrypt_file_with_nacl(bob_file, alice_nacl_public_key, to_file=encrypted_bob_file)\n",
    "print(f'The encrypted file is: {encrypted_bob_file}')\n"
   ]
  },
  {
   "source": [
    "### Bob sends the file on IPFS \n",
    "\n",
    "At this point, it is supposed that an IPFS server/daemon is running locally and listens on port 5001. \n",
    "To add a file on IPFS, it boils down to initiate a IPFS client and add the file, which can be done in a few line in pyalgorand."
   ],
   "cell_type": "markdown",
   "metadata": {}
  },
  {
   "cell_type": "code",
   "execution_count": 30,
   "metadata": {},
   "outputs": [],
   "source": [
    "# initialize the IPFS client \n",
    "DEFAULT_IPFS_URL = '/ip4/127.0.0.1/tcp/5001'\n",
    "ipfs = IPFS(DEFAULT_IPFS_URL)"
   ]
  },
  {
   "cell_type": "code",
   "execution_count": 31,
   "metadata": {},
   "outputs": [
    {
     "output_type": "stream",
     "name": "stdout",
     "text": [
      "The name on IPFS: encrypted_file\nThe hash is QmRfD9BXWVz3zNCZQmWY47vxC4y69SQz43onK2cHGW1uNg\n"
     ]
    }
   ],
   "source": [
    "# send the file to IPFS\n",
    "ipfs_metadata = ipfs.add(encrypted_bob_file)\n",
    "print(f\"The name on IPFS: {ipfs_metadata['Name']}\")\n",
    "print(f\"The hash is {ipfs_metadata['Hash']}\")"
   ]
  },
  {
   "source": [
    "### Bob share the file to Alice\n",
    "\n",
    "To share the file with Alice, Bob sends an Algorand transaction with the Hash of his IPFS file in the note. \n",
    "\n",
    "For this step, the Purestake API will be used through pyalgorand.  \n",
    "Let's put your Purestake API key in tmp/.purestake (it should be a 1-line file with only the API key).\n",
    "\n"
   ],
   "cell_type": "markdown",
   "metadata": {}
  },
  {
   "cell_type": "code",
   "execution_count": 32,
   "metadata": {},
   "outputs": [],
   "source": [
    "# initialize PureStake client\n",
    "con = PureStakeConnector(network='testnet', credentials=Path('tmp/.purestake'))\n",
    "con.connect()"
   ]
  },
  {
   "cell_type": "code",
   "execution_count": 33,
   "metadata": {},
   "outputs": [
    {
     "output_type": "stream",
     "name": "stdout",
     "text": [
      "{\"message\":\"TransactionPool.Remember: transaction RJ6AB352ZZ2T66RDSNLIXLLVCNQXOIOGHA4RXF57EZNUHM4RPZHQ: account ZMYKIMHF76ASR5WHERTQSD3AV7VKICBGLTGF5MWQXWSYEM6OIZNXV4MIYM balance 0 below min 100000 (0 assets)\"}\n\n"
     ]
    }
   ],
   "source": [
    "# Bob sends the hash of the IPFS file through a transaction with 0 algo (hash is in the note of the transaction) \n",
    "tor = PaymentTransactor(\n",
    "        con.algod_client, \n",
    "        sender_private_key=bob_account.private_key, \n",
    "        sender_address=bob_account.public_address,\n",
    "        receiver_address=alice_account.public_address,\n",
    "        amount=0,\n",
    "        note=ipfs_metadata['Hash'].encode('utf-8'))\n",
    "tor.transact()"
   ]
  },
  {
   "source": [
    "The transaction can be tracked on [Algorand Explorer](https://goalseeker.purestake.io/algorand/testnet)"
   ],
   "cell_type": "markdown",
   "metadata": {}
  },
  {
   "source": [
    "### Alice downloads the file from IPFS\n",
    "\n",
    "Alice can now use the hash from the transaction she received."
   ],
   "cell_type": "markdown",
   "metadata": {}
  },
  {
   "cell_type": "code",
   "execution_count": 34,
   "metadata": {},
   "outputs": [
    {
     "output_type": "execute_result",
     "data": {
      "text/plain": [
       "'QmRfD9BXWVz3zNCZQmWY47vxC4y69SQz43onK2cHGW1uNg'"
      ]
     },
     "metadata": {},
     "execution_count": 34
    }
   ],
   "source": [
    "# download file \n",
    "ipfs.get(ipfs_metadata['Hash'], temp_dir)"
   ]
  },
  {
   "cell_type": "code",
   "execution_count": 35,
   "metadata": {},
   "outputs": [
    {
     "output_type": "stream",
     "name": "stdout",
     "text": [
      "The downloaded encrypted file is : /tmp/tmp0s5y23uq/QmRfD9BXWVz3zNCZQmWY47vxC4y69SQz43onK2cHGW1uNg\n"
     ]
    }
   ],
   "source": [
    "encrypted_file_to_decrypt = temp_dir / ipfs_metadata['Hash']\n",
    "print('The downloaded encrypted file is :', encrypted_file_to_decrypt)"
   ]
  },
  {
   "source": [
    "### Alice decrypt the file\n",
    "\n",
    "Before she decrypts the file, Alice checks the file and sees that it is indeed encrypted."
   ],
   "cell_type": "markdown",
   "metadata": {}
  },
  {
   "cell_type": "code",
   "execution_count": 36,
   "metadata": {},
   "outputs": [
    {
     "output_type": "stream",
     "name": "stdout",
     "text": [
      "[b'\\xb2\\xe6\\x0e\\x95\\xf7A\\xde\\x0b\\\\y\\x96\\xd0\\xbd\\xe1s\\xa9,W|\\xec(\\xcd\\xaf\\xcf\\xb7N\\x84R\\xe0\\xb1N\\x8f\\x93sV\\xe0\\xac\\x84\\xa2\\xf5\\x82]\\xe6X\\x04\\xa0\\xec\\x9c\\xd2\\xee4\\xddc\\x00w@\\xdb\\x01\\xb4\\x03\\x17\\xba\\x9e\\xdc\\xb0|\\x8f\\xbeI']\n"
     ]
    }
   ],
   "source": [
    "# the encrypted file looks like this\n",
    "with open(encrypted_file_to_decrypt, 'rb') as h:\n",
    "    p = h.readlines()\n",
    "\n",
    "print(p)"
   ]
  },
  {
   "source": [
    "Alice decrypts Bob's file with her private NaCl key and Bob's public NaCl key. The method `decrypt_file_with_nacl` in pyalgorand is called from the account object (here alice_account) and so is aware of Alice NaCl private key (does not require it as argument). "
   ],
   "cell_type": "markdown",
   "metadata": {}
  },
  {
   "cell_type": "code",
   "execution_count": 37,
   "metadata": {},
   "outputs": [
    {
     "output_type": "execute_result",
     "data": {
      "text/plain": [
       "b\"Bob's secret message to Alice\""
      ]
     },
     "metadata": {},
     "execution_count": 37
    }
   ],
   "source": [
    "# Alice decrypts Bob's message using her private key and Bob's public key \n",
    "alice_account.decrypt_file_with_nacl(encrypted_file_to_decrypt, bob_account.nacl_encryption_keys.public_key)"
   ]
  },
  {
   "cell_type": "code",
   "execution_count": null,
   "metadata": {},
   "outputs": [],
   "source": []
  }
 ]
}